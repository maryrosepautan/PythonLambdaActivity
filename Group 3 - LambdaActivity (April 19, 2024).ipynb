{
 "cells": [
  {
   "cell_type": "code",
   "execution_count": 1,
   "id": "5d167e94-66ec-4434-93e2-12307c8a07bb",
   "metadata": {},
   "outputs": [
    {
     "name": "stdout",
     "output_type": "stream",
     "text": [
      "[21, 22, 23, 24, 25, 26, 27, 28, 29, 30]\n"
     ]
    }
   ],
   "source": [
    "add_20 = lambda x: x + 20\n",
    "\n",
    "numbers = list(range(1, 11))\n",
    "result = list(map(add_20, numbers))\n",
    "\n",
    "print(result)"
   ]
  },
  {
   "cell_type": "code",
   "execution_count": 2,
   "id": "f27d25e8-5a46-479c-85bd-9d15ca1bf666",
   "metadata": {},
   "outputs": [
    {
     "name": "stdout",
     "output_type": "stream",
     "text": [
      "[('date', 2), ('banana', 6), ('apple', 12), ('cherry', 22)]\n"
     ]
    }
   ],
   "source": [
    "# Define a list of tuples\n",
    "data = [('apple', 12), ('banana', 6), ('cherry', 22), ('date', 2)]\n",
    "\n",
    "# Use the sorted function with a lambda function as the key\n",
    "# The lambda function specifies that the second element of each tuple should be used for sorting\n",
    "sorted_data = sorted(data, key=lambda x: x[1])\n",
    "\n",
    "# Print the sorted data\n",
    "print(sorted_data)"
   ]
  },
  {
   "cell_type": "code",
   "execution_count": 3,
   "id": "01ed6306-2e84-4019-bd4e-8bbdb1bf6b70",
   "metadata": {},
   "outputs": [
    {
     "name": "stdout",
     "output_type": "stream",
     "text": [
      "15\n"
     ]
    }
   ],
   "source": [
    "# Define a lambda function that returns another function\n",
    "multiply_by_n = lambda n: (lambda x: x * n)\n",
    "\n",
    "# Use the lambda function to create a new function that multiplies by 5\n",
    "multiply_by_5 = multiply_by_n(5)\n",
    "\n",
    "# Use the new function\n",
    "result = multiply_by_5(3)\n",
    "\n",
    "# Print the result\n",
    "print(result)"
   ]
  },
  {
   "cell_type": "code",
   "execution_count": 4,
   "id": "f77d83bd-7957-4de0-bc4d-02c58a039b67",
   "metadata": {},
   "outputs": [
    {
     "name": "stdout",
     "output_type": "stream",
     "text": [
      "[1, 4, 9, 16, 25]\n"
     ]
    }
   ],
   "source": [
    "# Define a list of numbers\n",
    "numbers = [1, 2, 3, 4, 5]\n",
    "\n",
    "# Use a lambda function to square each number\n",
    "squared_numbers = list(map(lambda x: x**2, numbers))\n",
    "\n",
    "# Print the result\n",
    "print(squared_numbers)"
   ]
  },
  {
   "cell_type": "code",
   "execution_count": 5,
   "id": "0a41f3f7-7d69-4bcb-8a90-d7f346b5bfa6",
   "metadata": {},
   "outputs": [
    {
     "name": "stdout",
     "output_type": "stream",
     "text": [
      "['banana', 'apple', 'date', 'cherry']\n"
     ]
    }
   ],
   "source": [
    "# Define a list of strings\n",
    "words = ['apple', 'banana', 'cherry', 'date']\n",
    "\n",
    "# Use the sorted function with a lambda function as the key\n",
    "# The lambda function specifies that the last character of each string should be used for sorting\n",
    "sorted_words = sorted(words, key=lambda x: x[-1])\n",
    "\n",
    "# Print the sorted words\n",
    "print(sorted_words)\n"
   ]
  },
  {
   "cell_type": "code",
   "execution_count": null,
   "id": "95560784-18fa-4a65-8cb6-aa4ee52aa5c4",
   "metadata": {},
   "outputs": [],
   "source": []
  }
 ],
 "metadata": {
  "kernelspec": {
   "display_name": "Python 3 (ipykernel)",
   "language": "python",
   "name": "python3"
  },
  "language_info": {
   "codemirror_mode": {
    "name": "ipython",
    "version": 3
   },
   "file_extension": ".py",
   "mimetype": "text/x-python",
   "name": "python",
   "nbconvert_exporter": "python",
   "pygments_lexer": "ipython3",
   "version": "3.11.7"
  }
 },
 "nbformat": 4,
 "nbformat_minor": 5
}
